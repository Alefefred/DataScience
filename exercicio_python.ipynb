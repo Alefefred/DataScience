{
 "cells": [
  {
   "cell_type": "code",
   "execution_count": 35,
   "id": "47dd1222-738c-4532-8475-9976e9efac2f",
   "metadata": {
    "tags": []
   },
   "outputs": [
    {
     "name": "stdout",
     "output_type": "stream",
     "text": [
      "Amplitude: 54\n"
     ]
    }
   ],
   "source": [
    "#Programa para calcular a amplitude\n",
    "\n",
    "lst = [1,2,5,10,22,55]\n",
    "\n",
    "def amplitude():\n",
    "    print(\"Amplitude:\", max(lst) - min(lst))\n",
    "    \n",
    "amplitude()"
   ]
  },
  {
   "cell_type": "code",
   "execution_count": 32,
   "id": "20568e2e-59b8-475e-b034-a792e6069207",
   "metadata": {
    "tags": []
   },
   "outputs": [
    {
     "name": "stdin",
     "output_type": "stream",
     "text": [
      "Escreva uma string:  python\n"
     ]
    },
    {
     "name": "stdout",
     "output_type": "stream",
     "text": [
      "p\n",
      "y\n",
      "t\n",
      "h\n",
      "o\n",
      "n\n"
     ]
    }
   ],
   "source": [
    "#Programa para imprimir a string na vertical\n",
    "\n",
    "palavra = input('Escreva uma string: ')\n",
    "\n",
    "def vertical():\n",
    "    for i in range(0,len(palavra)):\n",
    "        print(palavra[i])\n",
    "    \n",
    "vertical()"
   ]
  },
  {
   "cell_type": "code",
   "execution_count": 34,
   "id": "fecc3fd7-f8fe-430d-890c-1b769b1b3f4b",
   "metadata": {
    "tags": []
   },
   "outputs": [
    {
     "name": "stdin",
     "output_type": "stream",
     "text": [
      "Qual o peso da carga em kg?  21\n"
     ]
    },
    {
     "name": "stdout",
     "output_type": "stream",
     "text": [
      "O transporte não foi aceito!\n"
     ]
    }
   ],
   "source": [
    "#Programa para ler o peso da carga em números inteiros e\n",
    "#apresentar mensagem de acordo com o peso da carga\n",
    "\n",
    "peso = int(input('Qual o peso da carga em kg? '))\n",
    "\n",
    "if peso <= 10:\n",
    "    print('Valor do transporte: R$50')\n",
    "elif peso <= 20:\n",
    "    print('Valor do transporte: R$80')\n",
    "else:\n",
    "    print('O transporte não foi aceito!')"
   ]
  }
 ],
 "metadata": {
  "kernelspec": {
   "display_name": "Python 3 (ipykernel)",
   "language": "python",
   "name": "python3"
  },
  "language_info": {
   "codemirror_mode": {
    "name": "ipython",
    "version": 3
   },
   "file_extension": ".py",
   "mimetype": "text/x-python",
   "name": "python",
   "nbconvert_exporter": "python",
   "pygments_lexer": "ipython3",
   "version": "3.11.5"
  }
 },
 "nbformat": 4,
 "nbformat_minor": 5
}
