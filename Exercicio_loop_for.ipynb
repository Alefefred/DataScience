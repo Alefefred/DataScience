{
 "cells": [
  {
   "cell_type": "code",
   "execution_count": 4,
   "id": "b15ae60d-3462-417d-8579-7e8975f66013",
   "metadata": {
    "tags": []
   },
   "outputs": [
    {
     "name": "stdin",
     "output_type": "stream",
     "text": [
      "Digite um número:  2\n"
     ]
    },
    {
     "name": "stdout",
     "output_type": "stream",
     "text": [
      "2 x 1 = 2\n",
      "2 x 2 = 4\n",
      "2 x 3 = 6\n",
      "2 x 4 = 8\n",
      "2 x 5 = 10\n",
      "2 x 6 = 12\n",
      "2 x 7 = 14\n",
      "2 x 8 = 16\n",
      "2 x 9 = 18\n",
      "2 x 10 = 20\n"
     ]
    }
   ],
   "source": [
    "#Exercício 1: Tabuada\n",
    "\n",
    "numero = int(input(\"Digite um número: \"))\n",
    "\n",
    "for i in range(1,11):\n",
    "    resultado = numero*i\n",
    "    print(f\"{numero} x {i} = {resultado}\")"
   ]
  },
  {
   "cell_type": "code",
   "execution_count": 8,
   "id": "5b080dd1-01ca-4b4e-a232-78588cbca747",
   "metadata": {
    "tags": []
   },
   "outputs": [
    {
     "name": "stdout",
     "output_type": "stream",
     "text": [
      "A soma dos números pares de 1 a 50 = 650\n"
     ]
    }
   ],
   "source": [
    "#Exercício 2: Soma dos Números Pares\n",
    "\n",
    "soma = 0\n",
    "\n",
    "for i in range(2,51,2):\n",
    "    soma += i\n",
    "print(f\"A soma dos números pares de 1 a 50 = {soma}\")"
   ]
  },
  {
   "cell_type": "code",
   "execution_count": 10,
   "id": "afe8a508-932d-4941-988c-923b07e41332",
   "metadata": {
    "tags": []
   },
   "outputs": [
    {
     "name": "stdout",
     "output_type": "stream",
     "text": [
      "10\n",
      "9\n",
      "8\n",
      "7\n",
      "6\n",
      "5\n",
      "4\n",
      "3\n",
      "2\n",
      "1\n"
     ]
    }
   ],
   "source": [
    "#Exercício 3: Contagem Regressiva\n",
    "\n",
    "for i in range(10,0,-1):\n",
    "    contagem = i\n",
    "    print(f\"{contagem}\")"
   ]
  },
  {
   "cell_type": "code",
   "execution_count": 17,
   "id": "046428a5-f79b-431f-88be-ac5cfc7f0e56",
   "metadata": {
    "tags": []
   },
   "outputs": [
    {
     "name": "stdin",
     "output_type": "stream",
     "text": [
      "Digite a nota 1:  7\n",
      "Digite a nota 2:  8\n",
      "Digite a nota 3:  9\n",
      "Digite a nota 4:  10\n",
      "Digite a nota 5:  4\n"
     ]
    },
    {
     "name": "stdout",
     "output_type": "stream",
     "text": [
      "A média das notas é: 7.6\n"
     ]
    }
   ],
   "source": [
    "#Exercício 4: Média de Notas\n",
    "\n",
    "notas = []\n",
    "\n",
    "for i in range(1,6):\n",
    "    nota = float(input(f\"Digite a nota {i}: \"))\n",
    "    notas.append(nota)\n",
    "\n",
    "media = sum(notas)/len(notas)\n",
    "print(f\"A média das notas é: {media}\")"
   ]
  },
  {
   "cell_type": "code",
   "execution_count": 18,
   "id": "d8911ab9-4d76-42f1-8c84-6b557364bf0d",
   "metadata": {
    "tags": []
   },
   "outputs": [
    {
     "name": "stdout",
     "output_type": "stream",
     "text": [
      "2\n",
      "3\n",
      "5\n",
      "7\n",
      "11\n",
      "13\n",
      "17\n",
      "19\n"
     ]
    }
   ],
   "source": [
    "#Exercício 5: Números Primos\n",
    "\n",
    "for num in range(1,21):\n",
    "    if num > 1:\n",
    "        for i in range(2, num):\n",
    "            if(num % i) == 0:\n",
    "                break\n",
    "        else:\n",
    "            print(num)"
   ]
  },
  {
   "cell_type": "code",
   "execution_count": null,
   "id": "eb419538-1b13-4422-8898-90e58b7207e7",
   "metadata": {},
   "outputs": [],
   "source": []
  }
 ],
 "metadata": {
  "kernelspec": {
   "display_name": "Python 3 (ipykernel)",
   "language": "python",
   "name": "python3"
  },
  "language_info": {
   "codemirror_mode": {
    "name": "ipython",
    "version": 3
   },
   "file_extension": ".py",
   "mimetype": "text/x-python",
   "name": "python",
   "nbconvert_exporter": "python",
   "pygments_lexer": "ipython3",
   "version": "3.11.5"
  }
 },
 "nbformat": 4,
 "nbformat_minor": 5
}
